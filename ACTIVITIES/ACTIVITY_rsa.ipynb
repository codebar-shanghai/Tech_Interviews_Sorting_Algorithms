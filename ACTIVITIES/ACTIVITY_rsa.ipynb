{
 "cells": [
  {
   "cell_type": "markdown",
   "metadata": {},
   "source": [
    "# RSA Encryption and Decryption Workshop\n",
    "\n",
    "## Overview\n",
    "In this workshop, you will learn how RSA encryption works by walking through the process of encoding and decoding messages. We will use Python to implement a basic version of RSA and explain key concepts like ASCII conversion, binary expansion, modular arithmetic, and key generation.\n",
    "\n",
    "## Workshop Goals:\n",
    "- Understand the basic principles of RSA encryption.\n",
    "- Convert text to ASCII and back.\n",
    "- Work with binary representations.\n",
    "- Use fast modular exponentiation.\n",
    "- Generate public and private keys.\n",
    "- Encode and decode messages.\n"
   ]
  },
  {
   "cell_type": "markdown",
   "metadata": {},
   "source": [
    "### Step 1: Convert Text to ASCII Integers\n",
    "In RSA encryption, we work with numbers. To encrypt text, we first need to convert it into numbers. This is done using ASCII values.\n"
   ]
  },
  {
   "cell_type": "code",
   "execution_count": null,
   "metadata": {},
   "outputs": [],
   "source": [
    "def Convert_Text(_string):\n",
    "    \"\"\"\n",
    "    Take in a string and output a list of ASCII values for each character.\n",
    "    \"\"\"\n",
    "    integer_list = [ord(letter) for letter in _string]\n",
    "    return integer_list\n",
    "\n",
    "# Example\n",
    "message = \"hello\"\n",
    "ascii_values = Convert_Text(message)\n",
    "print(f\"ASCII values for '{message}': {ascii_values}\")\n"
   ]
  },
  {
   "cell_type": "markdown",
   "metadata": {},
   "source": [
    "### Step 2: Convert ASCII Integers Back to Text\n",
    "After decrypting a message, we'll need to convert the list of ASCII integers back into readable text.\n"
   ]
  },
  {
   "cell_type": "code",
   "execution_count": null,
   "metadata": {},
   "outputs": [],
   "source": [
    "def Convert_Num(_list):\n",
    "    \"\"\"\n",
    "    Takes a list of ASCII integers and returns the corresponding string.\n",
    "    \"\"\"\n",
    "    return ''.join([chr(i) for i in _list])\n",
    "\n",
    "# Example\n",
    "ascii_values = [104, 101, 108, 108, 111]\n",
    "original_text = Convert_Num(ascii_values)\n",
    "print(f\"Original text: {original_text}\")\n"
   ]
  },
  {
   "cell_type": "markdown",
   "metadata": {},
   "source": [
    "### Step 3: Convert an Integer to Binary\n",
    "RSA uses modular exponentiation, and for efficient computation, we need to convert integers into their binary form.\n"
   ]
  },
  {
   "cell_type": "code",
   "execution_count": 1,
   "metadata": {},
   "outputs": [
    {
     "name": "stdout",
     "output_type": "stream",
     "text": [
      "Binary representation of 345: 101011001\n"
     ]
    }
   ],
   "source": [
    "def Convert_Binary_String(_int):\n",
    "    \"\"\"\n",
    "    Converts an integer to its binary expansion as a string.\n",
    "    \"\"\"\n",
    "    return bin(_int)[2:]\n",
    "\n",
    "# Example\n",
    "num = 345\n",
    "binary_string = Convert_Binary_String(num)\n",
    "print(f\"Binary representation of {num}: {binary_string}\")\n"
   ]
  },
  {
   "cell_type": "markdown",
   "metadata": {},
   "source": [
    "### Step 4: Fast Modular Exponentiation\n",
    "RSA requires calculating powers of numbers modulo another number. We will use fast modular exponentiation to achieve this efficiently.\n"
   ]
  },
  {
   "cell_type": "code",
   "execution_count": null,
   "metadata": {},
   "outputs": [],
   "source": [
    "def FME(b, n, m):\n",
    "    \"\"\"\n",
    "    Use fast modular exponentiation to calculate b^n mod m.\n",
    "    \"\"\"\n",
    "    result = 1\n",
    "    power = b % m\n",
    "    binary_n = Convert_Binary_String(n)[::-1]  # reverse binary string\n",
    "\n",
    "    for i in range(len(binary_n)):\n",
    "        if binary_n[i] == '1':\n",
    "            result = (result * power) % m\n",
    "        power = (power * power) % m\n",
    "\n",
    "    return result\n",
    "\n",
    "# Example\n",
    "base = 20\n",
    "exponent = 345\n",
    "modulus = 235\n",
    "result = FME(base, exponent, modulus)\n",
    "print(f\"{base}^{exponent} % {modulus} = {result}\")\n"
   ]
  },
  {
   "cell_type": "markdown",
   "metadata": {},
   "source": [
    "### Step 5: Key Generation\n",
    "RSA involves generating two large prime numbers and using them to compute public and private keys.\n"
   ]
  },
  {
   "cell_type": "code",
   "execution_count": null,
   "metadata": {},
   "outputs": [],
   "source": [
    "def Euclidean_Alg(a, b):\n",
    "    \"\"\"\n",
    "    Calculate the greatest common divisor using Euclidean Algorithm.\n",
    "    \"\"\"\n",
    "    while b != 0:\n",
    "        a, b = b, a % b\n",
    "    return a\n",
    "\n",
    "def Find_Public_Key_e(p, q):\n",
    "    \"\"\"\n",
    "    Find the public key 'e' and 'n' using primes p and q.\n",
    "    \"\"\"\n",
    "    n = p * q\n",
    "    t = (p - 1) * (q - 1)\n",
    "    e = 2\n",
    "    while Euclidean_Alg(e, t) != 1:\n",
    "        e += 1\n",
    "    return e, n\n",
    "\n",
    "def Find_Private_Key_d(e, p, q):\n",
    "    \"\"\"\n",
    "    Find the private key 'd' using the Extended Euclidean Algorithm.\n",
    "    \"\"\"\n",
    "    t = (p - 1) * (q - 1)\n",
    "    d = pow(e, -1, t)  # Modular inverse of e mod t\n",
    "    return d\n",
    "\n",
    "# Example\n",
    "p = 13\n",
    "q = 37\n",
    "e, n = Find_Public_Key_e(p, q)\n",
    "d = Find_Private_Key_d(e, p, q)\n",
    "print(f\"Public Key (e, n): ({e}, {n})\")\n",
    "print(f\"Private Key d: {d}\")\n"
   ]
  },
  {
   "cell_type": "markdown",
   "metadata": {},
   "source": [
    "### Step 6: Encoding a Message\n",
    "To encode a message, we use the public key `(e, n)` to encrypt each letter of the message.\n"
   ]
  },
  {
   "cell_type": "code",
   "execution_count": null,
   "metadata": {},
   "outputs": [],
   "source": [
    "def Encode(n, e, message):\n",
    "    \"\"\"\n",
    "    Encode a message using RSA.\n",
    "    \"\"\"\n",
    "    message_ascii = Convert_Text(message)\n",
    "    cipher_text = [FME(char, e, n) for char in message_ascii]\n",
    "    return cipher_text\n",
    "\n",
    "# Example\n",
    "message = \"Hello\"\n",
    "cipher_text = Encode(n, e, message)\n",
    "print(f\"Encoded message: {cipher_text}\")\n"
   ]
  },
  {
   "cell_type": "markdown",
   "metadata": {},
   "source": [
    "### Step 7: Decoding a Message\n",
    "To decode a message, we use the private key `(d, n)` to recover the original message.\n"
   ]
  },
  {
   "cell_type": "code",
   "execution_count": null,
   "metadata": {},
   "outputs": [],
   "source": [
    "def Decode(n, d, cipher_text):\n",
    "    \"\"\"\n",
    "    Decode a cipher_text using RSA.\n",
    "    \"\"\"\n",
    "    decoded_ascii = [FME(char, d, n) for char in cipher_text]\n",
    "    return Convert_Num(decoded_ascii)\n",
    "\n",
    "# Example\n",
    "decoded_message = Decode(n, d, cipher_text)\n",
    "print(f\"Decoded message: {decoded_message}\")\n"
   ]
  },
  {
   "cell_type": "markdown",
   "metadata": {},
   "source": [
    "## Final Example: Encoding and Decoding a Message\n",
    "Let's now go through the full process of RSA encryption, starting from generating keys to encoding and decoding a message.\n"
   ]
  },
  {
   "cell_type": "code",
   "execution_count": null,
   "metadata": {},
   "outputs": [],
   "source": [
    "# Full example\n",
    "p, q = 13, 37\n",
    "e, n = Find_Public_Key_e(p, q)\n",
    "d = Find_Private_Key_d(e, p, q)\n",
    "\n",
    "# Encode a message\n",
    "message = \"Hello\"\n",
    "cipher_text = Encode(n, e, message)\n",
    "print(f\"Encoded: {cipher_text}\")\n",
    "\n",
    "# Decode the cipher text\n",
    "decoded_message = Decode(n, d, cipher_text)\n",
    "print(f\"Decoded: {decoded_message}\")\n"
   ]
  },
  {
   "cell_type": "markdown",
   "metadata": {},
   "source": [
    "## Invitation to Contribute\n",
    "\n",
    "We invite all participants to contribute to the Participant Input Message Board. Please share your public keys and encrypted messages by visiting the following link:\n",
    "\n",
    "[Contribute Here](https://www.menti.com/al1733zk8uuz)\n",
    "\n",
    "Your contributions are valuable and will help us in our collaborative efforts. Thank you for your participation!"
   ]
  },
  {
   "cell_type": "markdown",
   "metadata": {},
   "source": [
    "## Conclusion\n",
    "In this workshop, we have explored the fundamentals of RSA encryption by:\n",
    "- Converting text to numbers (ASCII)\n",
    "- Working with binary and modular arithmetic\n",
    "- Generating public and private keys\n",
    "- Encoding and decoding messages\n",
    "\n",
    "RSA is a key technique used in securing digital communications, and understanding its mechanics is crucial for grasping modern cryptography.\n"
   ]
  }
 ],
 "metadata": {
  "kernelspec": {
   "display_name": "Python 3",
   "language": "python",
   "name": "python3"
  },
  "language_info": {
   "codemirror_mode": {
    "name": "ipython",
    "version": 3
   },
   "file_extension": ".py",
   "mimetype": "text/x-python",
   "name": "python",
   "nbconvert_exporter": "python",
   "pygments_lexer": "ipython3",
   "version": "3.12.4"
  }
 },
 "nbformat": 4,
 "nbformat_minor": 2
}
